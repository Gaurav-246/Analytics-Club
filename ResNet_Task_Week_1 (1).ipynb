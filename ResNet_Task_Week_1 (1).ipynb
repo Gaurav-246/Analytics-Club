{
  "cells": [
    {
      "cell_type": "markdown",
      "metadata": {
        "id": "D_uk0N0CuCJu"
      },
      "source": [
        "# Imports"
      ]
    },
    {
      "cell_type": "code",
      "execution_count": null,
      "metadata": {
        "id": "uJ72toZAuJv9"
      },
      "outputs": [],
      "source": [
        "from IPython.display import clear_output\n",
        "\n",
        "!pip install pyprind\n",
        "\n",
        "clear_output()"
      ]
    },
    {
      "cell_type": "code",
      "execution_count": null,
      "metadata": {
        "id": "kJkjypzhuEsz"
      },
      "outputs": [],
      "source": [
        "from google.colab.patches import cv2_imshow\n",
        "import cv2\n",
        "from PIL import Image\n",
        "import matplotlib.pyplot as plt\n",
        "\n",
        "\n",
        "import sklearn\n",
        "from sklearn import preprocessing\n",
        "from sklearn.model_selection import train_test_split\n",
        "import numpy as np\n",
        "import pandas as pd\n",
        "import gzip\n",
        "\n",
        "import os\n",
        "import glob\n",
        "import time\n",
        "import random\n",
        "import gc\n",
        "import json\n",
        "import copy\n",
        "import pyprind\n",
        "import tqdm\n",
        "from dataclasses import dataclass, field\n",
        "from typing import Union, List, Dict, Any, Optional, cast\n",
        "\n",
        "import torch\n",
        "import torchvision\n",
        "import torchtext\n",
        "\n",
        "from torchvision import transforms\n",
        "from torch.utils.data import DataLoader\n",
        "import torch.nn as nn\n",
        "import torch.nn.functional as F\n",
        "import torch.optim as optim\n",
        "from torchsummary import summary"
      ]
    },
    {
      "cell_type": "markdown",
      "metadata": {
        "id": "pVVOZoySss1c"
      },
      "source": [
        "# Introduction to PyTorch"
      ]
    },
    {
      "cell_type": "code",
      "execution_count": null,
      "metadata": {
        "colab": {
          "base_uri": "https://localhost:8080/"
        },
        "id": "Sg7VF__V8Xv-",
        "outputId": "601234c2-4948-47fd-fc22-3af5bf9dd24d"
      },
      "outputs": [
        {
          "name": "stdout",
          "output_type": "stream",
          "text": [
            "tensor([1, 2, 3, 4, 5])\n"
          ]
        }
      ],
      "source": [
        "x = torch.tensor([1,2,3,4,5])\n",
        "print(x)"
      ]
    },
    {
      "cell_type": "code",
      "execution_count": null,
      "metadata": {
        "colab": {
          "base_uri": "https://localhost:8080/"
        },
        "id": "GcTOdoaGr3Fh",
        "outputId": "5bf126b5-c4be-4139-ca9c-f6d401431939"
      },
      "outputs": [
        {
          "name": "stdout",
          "output_type": "stream",
          "text": [
            "<class 'numpy.ndarray'>\n",
            "<class 'torch.Tensor'>\n",
            "torch.Size([100])\n"
          ]
        }
      ],
      "source": [
        "x = np.arange(100)\n",
        "print(type(x))\n",
        "\n",
        "x = torch.tensor(x)\n",
        "print(type(x))\n",
        "print(x.size())"
      ]
    },
    {
      "cell_type": "markdown",
      "metadata": {
        "id": "lcZb5fzTtjeo"
      },
      "source": [
        "## Resizing Tensors"
      ]
    },
    {
      "cell_type": "code",
      "execution_count": null,
      "metadata": {
        "colab": {
          "base_uri": "https://localhost:8080/"
        },
        "id": "HOVPSbRgtN6C",
        "outputId": "e4c07395-70d3-4cbd-c690-2d7fcdffde8b"
      },
      "outputs": [
        {
          "name": "stdout",
          "output_type": "stream",
          "text": [
            "tensor([  0,   1,   2,   3,   4,   5,   6,   7,   8,   9,  10,  11,  12,  13,\n",
            "         14,  15,  16,  17,  18,  19,  20,  21,  22,  23,  24,  25,  26,  27,\n",
            "         28,  29,  30,  31,  32,  33,  34,  35,  36,  37,  38,  39,  40,  41,\n",
            "         42,  43,  44,  45,  46,  47,  48,  49,  50,  51,  52,  53,  54,  55,\n",
            "         56,  57,  58,  59,  60,  61,  62,  63,  64,  65,  66,  67,  68,  69,\n",
            "         70,  71,  72,  73,  74,  75,  76,  77,  78,  79,  80,  81,  82,  83,\n",
            "         84,  85,  86,  87,  88,  89,  90,  91,  92,  93,  94,  95,  96,  97,\n",
            "         98,  99, 100, 101, 102, 103, 104])\n",
            "torch.Size([105])\n"
          ]
        }
      ],
      "source": [
        "x = torch.arange(105)\n",
        "print(x)\n",
        "print(x.size())"
      ]
    },
    {
      "cell_type": "code",
      "execution_count": null,
      "metadata": {
        "colab": {
          "base_uri": "https://localhost:8080/"
        },
        "id": "A34d9wLTtXDK",
        "outputId": "1b465caa-980f-46f7-afc5-f8dffec2945a"
      },
      "outputs": [
        {
          "name": "stdout",
          "output_type": "stream",
          "text": [
            "tensor([[  0,   1,   2,   3,   4,   5,   6,   7,   8,   9,  10,  11,  12,  13,\n",
            "          14,  15,  16,  17,  18,  19,  20],\n",
            "        [ 21,  22,  23,  24,  25,  26,  27,  28,  29,  30,  31,  32,  33,  34,\n",
            "          35,  36,  37,  38,  39,  40,  41],\n",
            "        [ 42,  43,  44,  45,  46,  47,  48,  49,  50,  51,  52,  53,  54,  55,\n",
            "          56,  57,  58,  59,  60,  61,  62],\n",
            "        [ 63,  64,  65,  66,  67,  68,  69,  70,  71,  72,  73,  74,  75,  76,\n",
            "          77,  78,  79,  80,  81,  82,  83],\n",
            "        [ 84,  85,  86,  87,  88,  89,  90,  91,  92,  93,  94,  95,  96,  97,\n",
            "          98,  99, 100, 101, 102, 103, 104]])\n"
          ]
        }
      ],
      "source": [
        "y = x.reshape((5, 21))\n",
        "print(y)"
      ]
    },
    {
      "cell_type": "code",
      "execution_count": null,
      "metadata": {
        "colab": {
          "base_uri": "https://localhost:8080/"
        },
        "id": "vo5lQwa8tXAV",
        "outputId": "27eba80d-d7da-4eda-9bdb-3203e184311e"
      },
      "outputs": [
        {
          "name": "stdout",
          "output_type": "stream",
          "text": [
            "tensor([[[  0,   1,   2,   3,   4,   5,   6],\n",
            "         [  7,   8,   9,  10,  11,  12,  13],\n",
            "         [ 14,  15,  16,  17,  18,  19,  20]],\n",
            "\n",
            "        [[ 21,  22,  23,  24,  25,  26,  27],\n",
            "         [ 28,  29,  30,  31,  32,  33,  34],\n",
            "         [ 35,  36,  37,  38,  39,  40,  41]],\n",
            "\n",
            "        [[ 42,  43,  44,  45,  46,  47,  48],\n",
            "         [ 49,  50,  51,  52,  53,  54,  55],\n",
            "         [ 56,  57,  58,  59,  60,  61,  62]],\n",
            "\n",
            "        [[ 63,  64,  65,  66,  67,  68,  69],\n",
            "         [ 70,  71,  72,  73,  74,  75,  76],\n",
            "         [ 77,  78,  79,  80,  81,  82,  83]],\n",
            "\n",
            "        [[ 84,  85,  86,  87,  88,  89,  90],\n",
            "         [ 91,  92,  93,  94,  95,  96,  97],\n",
            "         [ 98,  99, 100, 101, 102, 103, 104]]])\n"
          ]
        }
      ],
      "source": [
        "z = x.reshape((5, 3, 7))\n",
        "print(z)"
      ]
    },
    {
      "cell_type": "code",
      "execution_count": null,
      "metadata": {
        "colab": {
          "base_uri": "https://localhost:8080/"
        },
        "id": "fcZeUJsDuHoD",
        "outputId": "c338db24-783b-45e0-f6ff-52780a4b6365"
      },
      "outputs": [
        {
          "name": "stdout",
          "output_type": "stream",
          "text": [
            "tensor([[  0,   1,   2,   3,   4,   5,   6,   7,   8,   9,  10,  11,  12,  13,\n",
            "          14,  15,  16,  17,  18,  19,  20,  21,  22,  23,  24,  25,  26,  27,\n",
            "          28,  29,  30,  31,  32,  33,  34],\n",
            "        [ 35,  36,  37,  38,  39,  40,  41,  42,  43,  44,  45,  46,  47,  48,\n",
            "          49,  50,  51,  52,  53,  54,  55,  56,  57,  58,  59,  60,  61,  62,\n",
            "          63,  64,  65,  66,  67,  68,  69],\n",
            "        [ 70,  71,  72,  73,  74,  75,  76,  77,  78,  79,  80,  81,  82,  83,\n",
            "          84,  85,  86,  87,  88,  89,  90,  91,  92,  93,  94,  95,  96,  97,\n",
            "          98,  99, 100, 101, 102, 103, 104]])\n"
          ]
        }
      ],
      "source": [
        "w = x.view((3, 35))\n",
        "print(w)"
      ]
    },
    {
      "cell_type": "markdown",
      "metadata": {
        "id": "uEQ7rX1JVonr"
      },
      "source": [
        "When to use `Tensor.view` and when to use `Tensor.reshape`?\n",
        "\n",
        "`Tensor.view` works only when the tensor is contiguous. Where as `Tensor.reshape` (may) creates a new instance of the tensor and therefore can be used universally."
      ]
    },
    {
      "cell_type": "markdown",
      "metadata": {
        "id": "XzTLhP_ouN0S"
      },
      "source": [
        "### Permute"
      ]
    },
    {
      "cell_type": "code",
      "execution_count": null,
      "metadata": {
        "colab": {
          "base_uri": "https://localhost:8080/"
        },
        "id": "RRYKYAb2tW9V",
        "outputId": "36711a4a-030b-47f2-e850-99e5958b4e66"
      },
      "outputs": [
        {
          "name": "stdout",
          "output_type": "stream",
          "text": [
            "tensor([[[  0,   1,   2,   3,   4,   5,   6],\n",
            "         [ 21,  22,  23,  24,  25,  26,  27],\n",
            "         [ 42,  43,  44,  45,  46,  47,  48],\n",
            "         [ 63,  64,  65,  66,  67,  68,  69],\n",
            "         [ 84,  85,  86,  87,  88,  89,  90]],\n",
            "\n",
            "        [[  7,   8,   9,  10,  11,  12,  13],\n",
            "         [ 28,  29,  30,  31,  32,  33,  34],\n",
            "         [ 49,  50,  51,  52,  53,  54,  55],\n",
            "         [ 70,  71,  72,  73,  74,  75,  76],\n",
            "         [ 91,  92,  93,  94,  95,  96,  97]],\n",
            "\n",
            "        [[ 14,  15,  16,  17,  18,  19,  20],\n",
            "         [ 35,  36,  37,  38,  39,  40,  41],\n",
            "         [ 56,  57,  58,  59,  60,  61,  62],\n",
            "         [ 77,  78,  79,  80,  81,  82,  83],\n",
            "         [ 98,  99, 100, 101, 102, 103, 104]]])\n",
            "torch.Size([3, 5, 7])\n"
          ]
        }
      ],
      "source": [
        "w = z.permute((1, 0, 2))\n",
        "print(w)\n",
        "print(w.size())"
      ]
    },
    {
      "cell_type": "code",
      "execution_count": null,
      "metadata": {
        "colab": {
          "base_uri": "https://localhost:8080/"
        },
        "id": "jI4KwW4Au0KX",
        "outputId": "e0399fea-b40b-44e2-eef9-d5068c1e57c3"
      },
      "outputs": [
        {
          "name": "stdout",
          "output_type": "stream",
          "text": [
            "tensor([[[  0,   1,   2,   3,   4,   5,   6],\n",
            "         [ 21,  22,  23,  24,  25,  26,  27],\n",
            "         [ 42,  43,  44,  45,  46,  47,  48],\n",
            "         [ 63,  64,  65,  66,  67,  68,  69],\n",
            "         [ 84,  85,  86,  87,  88,  89,  90]],\n",
            "\n",
            "        [[  7,   8,   9,  10,  11,  12,  13],\n",
            "         [ 28,  29,  30,  31,  32,  33,  34],\n",
            "         [ 49,  50,  51,  52,  53,  54,  55],\n",
            "         [ 70,  71,  72,  73,  74,  75,  76],\n",
            "         [ 91,  92,  93,  94,  95,  96,  97]],\n",
            "\n",
            "        [[ 14,  15,  16,  17,  18,  19,  20],\n",
            "         [ 35,  36,  37,  38,  39,  40,  41],\n",
            "         [ 56,  57,  58,  59,  60,  61,  62],\n",
            "         [ 77,  78,  79,  80,  81,  82,  83],\n",
            "         [ 98,  99, 100, 101, 102, 103, 104]]])\n",
            "torch.Size([3, 5, 7])\n"
          ]
        }
      ],
      "source": [
        "w = torch.moveaxis(z, 1, 0)\n",
        "print(w)\n",
        "print(w.size())"
      ]
    },
    {
      "cell_type": "markdown",
      "metadata": {
        "id": "SoJh8htRvs0_"
      },
      "source": [
        "### Flatten"
      ]
    },
    {
      "cell_type": "code",
      "execution_count": null,
      "metadata": {
        "colab": {
          "base_uri": "https://localhost:8080/"
        },
        "id": "GAUXy-iqu0IG",
        "outputId": "bafafe08-fa69-41d5-f21e-e8e8448c4a03"
      },
      "outputs": [
        {
          "name": "stdout",
          "output_type": "stream",
          "text": [
            "torch.Size([3, 5, 7])\n",
            "torch.Size([3, 35])\n"
          ]
        }
      ],
      "source": [
        "print(w.size())\n",
        "\n",
        "u = torch.flatten(w, 1, 2)\n",
        "print(u.size())"
      ]
    },
    {
      "cell_type": "code",
      "execution_count": null,
      "metadata": {
        "colab": {
          "base_uri": "https://localhost:8080/"
        },
        "id": "Iu4L7TA4h348",
        "outputId": "cab15133-34ae-44ba-b10b-a113195ae2e3"
      },
      "outputs": [
        {
          "name": "stdout",
          "output_type": "stream",
          "text": [
            "tensor([[  0,   1,   2,   3,   4,   5,   6,  21,  22,  23,  24,  25,  26,  27,\n",
            "          42,  43,  44,  45,  46,  47,  48,  63,  64,  65,  66,  67,  68,  69,\n",
            "          84,  85,  86,  87,  88,  89,  90],\n",
            "        [  7,   8,   9,  10,  11,  12,  13,  28,  29,  30,  31,  32,  33,  34,\n",
            "          49,  50,  51,  52,  53,  54,  55,  70,  71,  72,  73,  74,  75,  76,\n",
            "          91,  92,  93,  94,  95,  96,  97],\n",
            "        [ 14,  15,  16,  17,  18,  19,  20,  35,  36,  37,  38,  39,  40,  41,\n",
            "          56,  57,  58,  59,  60,  61,  62,  77,  78,  79,  80,  81,  82,  83,\n",
            "          98,  99, 100, 101, 102, 103, 104]])\n"
          ]
        }
      ],
      "source": [
        "print(u)"
      ]
    },
    {
      "cell_type": "code",
      "execution_count": null,
      "metadata": {
        "colab": {
          "base_uri": "https://localhost:8080/"
        },
        "id": "g71Q33TitW40",
        "outputId": "82d636a6-34c5-4ba2-c1fa-8b2de341e0d7"
      },
      "outputs": [
        {
          "name": "stdout",
          "output_type": "stream",
          "text": [
            "torch.Size([3, 5, 7])\n",
            "torch.Size([105])\n"
          ]
        }
      ],
      "source": [
        "print(w.size())\n",
        "\n",
        "u = torch.flatten(w)\n",
        "print(u.size())"
      ]
    },
    {
      "cell_type": "code",
      "execution_count": null,
      "metadata": {
        "colab": {
          "base_uri": "https://localhost:8080/"
        },
        "id": "dSlrgIqliCb5",
        "outputId": "5157f123-4fa2-49bd-e08e-d095cd511619"
      },
      "outputs": [
        {
          "name": "stdout",
          "output_type": "stream",
          "text": [
            "tensor([  0,   1,   2,   3,   4,   5,   6,  21,  22,  23,  24,  25,  26,  27,\n",
            "         42,  43,  44,  45,  46,  47,  48,  63,  64,  65,  66,  67,  68,  69,\n",
            "         84,  85,  86,  87,  88,  89,  90,   7,   8,   9,  10,  11,  12,  13,\n",
            "         28,  29,  30,  31,  32,  33,  34,  49,  50,  51,  52,  53,  54,  55,\n",
            "         70,  71,  72,  73,  74,  75,  76,  91,  92,  93,  94,  95,  96,  97,\n",
            "         14,  15,  16,  17,  18,  19,  20,  35,  36,  37,  38,  39,  40,  41,\n",
            "         56,  57,  58,  59,  60,  61,  62,  77,  78,  79,  80,  81,  82,  83,\n",
            "         98,  99, 100, 101, 102, 103, 104])\n"
          ]
        }
      ],
      "source": [
        "print(u)"
      ]
    },
    {
      "cell_type": "markdown",
      "metadata": {
        "id": "dM5LUuq-v0D4"
      },
      "source": [
        "## Operations"
      ]
    },
    {
      "cell_type": "code",
      "execution_count": null,
      "metadata": {
        "colab": {
          "base_uri": "https://localhost:8080/"
        },
        "id": "s9agiKjksINc",
        "outputId": "b62d162a-a3dc-46bd-8826-739a14539194"
      },
      "outputs": [
        {
          "name": "stdout",
          "output_type": "stream",
          "text": [
            "tensor([  1,   2,   3,   4,   5,   6,   7,   8,   9,  10,  11,  12,  13,  14,\n",
            "         15,  16,  17,  18,  19,  20,  21,  22,  23,  24,  25,  26,  27,  28,\n",
            "         29,  30,  31,  32,  33,  34,  35,  36,  37,  38,  39,  40,  41,  42,\n",
            "         43,  44,  45,  46,  47,  48,  49,  50,  51,  52,  53,  54,  55,  56,\n",
            "         57,  58,  59,  60,  61,  62,  63,  64,  65,  66,  67,  68,  69,  70,\n",
            "         71,  72,  73,  74,  75,  76,  77,  78,  79,  80,  81,  82,  83,  84,\n",
            "         85,  86,  87,  88,  89,  90,  91,  92,  93,  94,  95,  96,  97,  98,\n",
            "         99, 100, 101, 102, 103, 104, 105])\n"
          ]
        }
      ],
      "source": [
        "# Suppose you want to add one to every element of the array\n",
        "\n",
        "x = x + 1\n",
        "\n",
        "print(x)"
      ]
    },
    {
      "cell_type": "code",
      "execution_count": null,
      "metadata": {
        "colab": {
          "base_uri": "https://localhost:8080/"
        },
        "id": "5gCmmBhNyXRr",
        "outputId": "6032270a-7ec3-4ff5-8663-ed1697e72db1"
      },
      "outputs": [
        {
          "name": "stdout",
          "output_type": "stream",
          "text": [
            "tensor([  2,   4,   6,   8,  10,  12,  14,  16,  18,  20,  22,  24,  26,  28,\n",
            "         30,  32,  34,  36,  38,  40,  42,  44,  46,  48,  50,  52,  54,  56,\n",
            "         58,  60,  62,  64,  66,  68,  70,  72,  74,  76,  78,  80,  82,  84,\n",
            "         86,  88,  90,  92,  94,  96,  98, 100, 102, 104, 106, 108, 110, 112,\n",
            "        114, 116, 118, 120, 122, 124, 126, 128, 130, 132, 134, 136, 138, 140,\n",
            "        142, 144, 146, 148, 150, 152, 154, 156, 158, 160, 162, 164, 166, 168,\n",
            "        170, 172, 174, 176, 178, 180, 182, 184, 186, 188, 190, 192, 194, 196,\n",
            "        198, 200, 202, 204, 206, 208, 210])\n"
          ]
        }
      ],
      "source": [
        "x = x + x\n",
        "\n",
        "print(x)"
      ]
    },
    {
      "cell_type": "code",
      "execution_count": null,
      "metadata": {
        "colab": {
          "base_uri": "https://localhost:8080/"
        },
        "id": "3qvDgpuWsINc",
        "outputId": "9abadd4a-33ad-42e8-b7c8-1ab71628191c"
      },
      "outputs": [
        {
          "name": "stdout",
          "output_type": "stream",
          "text": [
            "tensor([  4,   8,  12,  16,  20,  24,  28,  32,  36,  40,  44,  48,  52,  56,\n",
            "         60,  64,  68,  72,  76,  80,  84,  88,  92,  96, 100, 104, 108, 112,\n",
            "        116, 120, 124, 128, 132, 136, 140, 144, 148, 152, 156, 160, 164, 168,\n",
            "        172, 176, 180, 184, 188, 192, 196, 200, 204, 208, 212, 216, 220, 224,\n",
            "        228, 232, 236, 240, 244, 248, 252, 256, 260, 264, 268, 272, 276, 280,\n",
            "        284, 288, 292, 296, 300, 304, 308, 312, 316, 320, 324, 328, 332, 336,\n",
            "        340, 344, 348, 352, 356, 360, 364, 368, 372, 376, 380, 384, 388, 392,\n",
            "        396, 400, 404, 408, 412, 416, 420])\n"
          ]
        }
      ],
      "source": [
        "x = x * 2\n",
        "\n",
        "print(x)"
      ]
    },
    {
      "cell_type": "markdown",
      "metadata": {
        "id": "EChdov-rsINc"
      },
      "source": [
        "### Multiplying two Arrays"
      ]
    },
    {
      "cell_type": "code",
      "execution_count": null,
      "metadata": {
        "colab": {
          "base_uri": "https://localhost:8080/"
        },
        "id": "MNoIfDTRsINc",
        "outputId": "1c97a83c-09a4-49b4-9b26-f9d75ee93ad3"
      },
      "outputs": [
        {
          "name": "stdout",
          "output_type": "stream",
          "text": [
            "tensor([[2, 1, 1],\n",
            "        [2, 2, 1]])\n"
          ]
        }
      ],
      "source": [
        "x = torch.randint(low=1, high=3, size=(2, 3))\n",
        "print(x)"
      ]
    },
    {
      "cell_type": "code",
      "execution_count": null,
      "metadata": {
        "colab": {
          "base_uri": "https://localhost:8080/"
        },
        "id": "Tf3G_x7ZwOe6",
        "outputId": "6daea2de-c650-491e-ace1-1f7c878de4b0"
      },
      "outputs": [
        {
          "name": "stdout",
          "output_type": "stream",
          "text": [
            "tensor([[1, 1, 1],\n",
            "        [2, 1, 2]])\n"
          ]
        }
      ],
      "source": [
        "y = torch.randint(low=1, high=3, size=(2, 3))\n",
        "print(y)"
      ]
    },
    {
      "cell_type": "code",
      "execution_count": null,
      "metadata": {
        "colab": {
          "base_uri": "https://localhost:8080/"
        },
        "id": "CLUeNo7mwDWC",
        "outputId": "a94fe357-566e-4166-873d-ad54817d6207"
      },
      "outputs": [
        {
          "name": "stdout",
          "output_type": "stream",
          "text": [
            "tensor([[2, 1, 1],\n",
            "        [4, 2, 2]])\n"
          ]
        }
      ],
      "source": [
        "z = x*y\n",
        "print(z)"
      ]
    },
    {
      "cell_type": "markdown",
      "metadata": {
        "id": "i2x-7lKewsGh"
      },
      "source": [
        "---"
      ]
    },
    {
      "cell_type": "code",
      "execution_count": null,
      "metadata": {
        "colab": {
          "base_uri": "https://localhost:8080/"
        },
        "id": "N3wl_LHzwuJB",
        "outputId": "7a612c47-884c-4f4b-9817-6e4f89f7656a"
      },
      "outputs": [
        {
          "name": "stdout",
          "output_type": "stream",
          "text": [
            "torch.Size([2, 3])\n",
            "torch.Size([2, 3])\n",
            "tensor([[4, 7],\n",
            "        [5, 8]])\n",
            "torch.Size([2, 2])\n"
          ]
        }
      ],
      "source": [
        "print(x.size())\n",
        "print(y.size())\n",
        "\n",
        "\n",
        "z = torch.matmul(x, y.T)\n",
        "\n",
        "print(z)\n",
        "print(z.size())"
      ]
    },
    {
      "cell_type": "code",
      "execution_count": null,
      "metadata": {
        "colab": {
          "base_uri": "https://localhost:8080/"
        },
        "id": "FWPDQgINwVEB",
        "outputId": "1d34a1fc-271c-4a80-aaea-c582458c4d01"
      },
      "outputs": [
        {
          "name": "stdout",
          "output_type": "stream",
          "text": [
            "torch.Size([2, 3])\n",
            "torch.Size([2, 3])\n",
            "tensor([[4, 7],\n",
            "        [5, 8]])\n",
            "torch.Size([2, 2])\n"
          ]
        }
      ],
      "source": [
        "print(x.size())\n",
        "print(y.size())\n",
        "\n",
        "\n",
        "z = x@y.T\n",
        "\n",
        "print(z)\n",
        "print(z.size())"
      ]
    },
    {
      "cell_type": "markdown",
      "metadata": {
        "id": "S6g3Secxw73k"
      },
      "source": [
        "### Maximum Element in a Tensor"
      ]
    },
    {
      "cell_type": "code",
      "execution_count": null,
      "metadata": {
        "colab": {
          "base_uri": "https://localhost:8080/"
        },
        "id": "MgrBLehWwU7l",
        "outputId": "8139b870-7b4f-431b-ff63-e5ce26ad3bf2"
      },
      "outputs": [
        {
          "name": "stdout",
          "output_type": "stream",
          "text": [
            "tensor([282, 138, 112, 396,  52, 428, 170, 287, 362, 482,   9, 403, 294, 363,\n",
            "        313, 233, 315, 242, 407, 288, 226, 346, 216, 216, 191, 135, 106,  73,\n",
            "        156, 133, 240, 355, 396, 454,  99, 177, 389, 304, 234, 126, 285, 362,\n",
            "        374, 127, 191, 418, 421, 456, 159, 248, 438, 205, 288, 150, 412, 197,\n",
            "        474, 106, 200, 360, 477, 150, 111, 259, 292, 238, 456, 252,  38, 165,\n",
            "        126, 435, 288, 429,  38, 327, 464, 200, 473, 360, 240, 334, 186,  13,\n",
            "        252, 279, 196,  99, 133, 407, 257, 307,  29, 199, 275, 162, 387, 128,\n",
            "        295, 131])\n",
            "tensor(482)\n",
            "tensor(9)\n"
          ]
        }
      ],
      "source": [
        "x = torch.randint(low=1, high=500, size=(100,))\n",
        "print(x)\n",
        "\n",
        "print(torch.max(x))\n",
        "print(torch.argmax(x))"
      ]
    },
    {
      "cell_type": "code",
      "execution_count": null,
      "metadata": {
        "colab": {
          "base_uri": "https://localhost:8080/"
        },
        "id": "qQnvgsxoxRn6",
        "outputId": "74175544-812c-4b8f-fa49-d743a0e8293f"
      },
      "outputs": [
        {
          "name": "stdout",
          "output_type": "stream",
          "text": [
            "tensor(346)\n"
          ]
        }
      ],
      "source": [
        "print(x[21])"
      ]
    },
    {
      "cell_type": "code",
      "execution_count": null,
      "metadata": {
        "colab": {
          "base_uri": "https://localhost:8080/"
        },
        "id": "qPPfx9cUxgpJ",
        "outputId": "2beef29a-85ea-48b5-f08e-184d7a3efb4c"
      },
      "outputs": [
        {
          "name": "stdout",
          "output_type": "stream",
          "text": [
            "tensor([[346, 369, 108, 378, 451, 276, 199,  32,  28, 105],\n",
            "        [ 39, 135,  63, 385,  43, 235,  87, 473,  93,  44],\n",
            "        [278, 464, 132, 107,  58,  89, 326, 296,  63, 240],\n",
            "        [222, 136, 248, 343, 223,  39, 431,  96,  64,  22],\n",
            "        [ 33, 166, 466, 322, 255, 481, 498,  58, 431, 207],\n",
            "        [484, 389, 196, 299, 190,  15, 278, 144, 480,  94],\n",
            "        [375,  83, 117, 354,  83,  64, 315, 358,  32, 258],\n",
            "        [139,  93, 154,  16, 269, 226,  33, 294, 188, 457],\n",
            "        [215, 241,  74, 364,  53,  91, 280, 158,  36, 116],\n",
            "        [489, 369, 472, 342, 238,  67, 134, 137,  95,  17]])\n",
            "tensor([451, 473, 464, 431, 498, 484, 375, 457, 364, 489])\n",
            "tensor([4, 7, 1, 6, 6, 0, 0, 9, 3, 0])\n"
          ]
        }
      ],
      "source": [
        "x = torch.randint(low=1, high=500, size=(100,)).view(10, 10)\n",
        "print(x)\n",
        "\n",
        "print(torch.max(x, dim=1).values)\n",
        "print(torch.argmax(x, dim=1))"
      ]
    },
    {
      "cell_type": "markdown",
      "metadata": {
        "id": "dQlSfU-dtJIu"
      },
      "source": [
        "# Introduction to Convolutional Neural Networks"
      ]
    },
    {
      "cell_type": "markdown",
      "metadata": {
        "id": "6xdFH0S-tOe5"
      },
      "source": [
        "# Data Processing"
      ]
    },
    {
      "cell_type": "code",
      "execution_count": null,
      "metadata": {
        "id": "OmqvhyWMV-7X"
      },
      "outputs": [],
      "source": [
        "# !wget"
      ]
    },
    {
      "cell_type": "code",
      "execution_count": null,
      "metadata": {
        "id": "rk-72wvstOEd"
      },
      "outputs": [],
      "source": [
        "!gdown --id 1oYnD7Izl3LVVzjEMyLxLklX30TKWHgGG\n",
        "!unzip /content/cifar-10.zip\n",
        "!rm -rf /content/cifar-10.zip\n",
        "!mv /content/cifar-10/sample_submission.csv /content/cifar-10/test_labels.csv\n",
        "\n",
        "clear_output()"
      ]
    },
    {
      "cell_type": "code",
      "execution_count": null,
      "metadata": {
        "id": "My1DLmX6xUFw"
      },
      "outputs": [],
      "source": [
        "def process():\n",
        "    data = pd.read_csv(os.path.join('/content/cifar-10', 'train_labels.csv'))\n",
        "    encoder = preprocessing.LabelEncoder()\n",
        "    encoder.fit(data['label'])\n",
        "    return encoder\n",
        "\n",
        "encoder = process()"
      ]
    },
    {
      "cell_type": "code",
      "execution_count": null,
      "metadata": {
        "id": "ak2lfBubwugU"
      },
      "outputs": [],
      "source": [
        "data = pd.read_csv(os.path.join('/content/cifar-10', 'train_labels.csv'))\n",
        "files = data['id']\n",
        "labels = encoder.transform(data['label'])\n",
        "\n",
        "train_data_files, valid_data_files, train_data_label, valid_data_label = train_test_split(files, labels, test_size=0.1, shuffle=True, stratify=labels)\n",
        "\n",
        "train_data = pd.DataFrame({'id': train_data_files, 'label': train_data_label})\n",
        "valid_data = pd.DataFrame({'id': valid_data_files, 'label': valid_data_label})\n",
        "\n",
        "unique, counts = np.unique(labels, return_counts=True)\n",
        "weights = torch.Tensor(sklearn.utils.class_weight.compute_class_weight(class_weight=\"balanced\", classes=unique, y=np.asarray(labels)))"
      ]
    },
    {
      "cell_type": "code",
      "execution_count": null,
      "metadata": {
        "id": "fDWZKkfJwud6"
      },
      "outputs": [],
      "source": [
        "data = pd.read_csv(os.path.join('/content/cifar-10', 'test_labels.csv'))\n",
        "test_data_files = data['id']\n",
        "test_data_label = encoder.transform(data['label'])\n",
        "\n",
        "test_data = pd.DataFrame({'id': test_data_files, 'label': test_data_label})"
      ]
    },
    {
      "cell_type": "markdown",
      "metadata": {
        "id": "B3HPjiIszKMb"
      },
      "source": [
        "# Training Parameters"
      ]
    },
    {
      "cell_type": "code",
      "execution_count": null,
      "metadata": {
        "id": "AMo4bQJezJui"
      },
      "outputs": [],
      "source": [
        "@dataclass\n",
        "class TrainingArgs():\n",
        "\n",
        "    seed: int = 17\n",
        "    lr: float = 3e-4\n",
        "    batch_size: int = 64\n",
        "    num_workers: int = os.cpu_count()\n",
        "    max_epochs: str = 10\n",
        "    device: torch.device = torch.device(\"cuda\" if torch.cuda.is_available() else \"cpu\")\n",
        "\n",
        "    img_size: int = 32\n",
        "\n",
        "    root_dir: str = '/content/cifar-10'\n",
        "    train_file: dict = train_data\n",
        "    valid_file: dict = valid_data\n",
        "    test_file: dict = test_data\n",
        "    data: tuple = ()\n",
        "    checkpoint: str = '/content/'\n",
        "\n",
        "    project_name: str = 'CIFAR10'\n",
        "\n",
        "args = TrainingArgs()"
      ]
    },
    {
      "cell_type": "markdown",
      "metadata": {
        "id": "0jKwtSnczNmN"
      },
      "source": [
        "# Data Loading"
      ]
    },
    {
      "cell_type": "code",
      "execution_count": null,
      "metadata": {
        "id": "UCGrSq1NttOq"
      },
      "outputs": [],
      "source": [
        "class CreateDataset(torch.utils.data.Dataset):\n",
        "    def __init__(self, args, mode='train'):\n",
        "        self.args = args\n",
        "        self.mode = mode\n",
        "\n",
        "        if mode=='train':\n",
        "            self.entry = self.args.train_file\n",
        "        elif mode=='valid':\n",
        "            self.entry = self.args.valid_file\n",
        "            self.mode = 'train'\n",
        "        elif mode=='test':\n",
        "            self.entry = self.args.test_file    \n",
        "\n",
        "        self.transform = torchvision.transforms.Compose(\n",
        "            [\n",
        "                transforms.ToTensor(),\n",
        "                transforms.Normalize((0.4914, 0.4822, 0.4465), (0.2023, 0.1994, 0.2010)),\n",
        "            ]\n",
        "        )\n",
        "\n",
        "    def __getitem__(self, index):\n",
        "        data = self.entry.iloc[index]\n",
        "        file_name = os.path.join(self.args.root_dir, self.mode, str(data['id'])+'.png')\n",
        "        image = Image.open(file_name)\n",
        "        image = self.transform(image)\n",
        "        label = data['label']\n",
        "        return image, label\n",
        "\n",
        "    def __len__(self):\n",
        "        return len(self.entry)"
      ]
    },
    {
      "cell_type": "markdown",
      "metadata": {
        "id": "huC57aPyvpA_"
      },
      "source": [
        "---"
      ]
    },
    {
      "cell_type": "code",
      "execution_count": null,
      "metadata": {
        "id": "gyf8b7t0uRq5"
      },
      "outputs": [],
      "source": [
        "train_dataset = CreateDataset(args, mode='train')\n",
        "valid_dataset = CreateDataset(args, mode='valid')\n",
        "test_dataset = CreateDataset(args, mode='test')\n",
        "\n",
        "args.data = (train_dataset, valid_dataset, test_dataset)"
      ]
    },
    {
      "cell_type": "code",
      "execution_count": null,
      "metadata": {
        "id": "NH15A3gHuYeB"
      },
      "outputs": [],
      "source": [
        "trainloader = DataLoader(train_dataset, batch_size=32, shuffle=True)\n",
        "validloader = DataLoader(valid_dataset, batch_size=32, shuffle=False)\n",
        "testloader = DataLoader(test_dataset, batch_size=32, shuffle=False)"
      ]
    },
    {
      "cell_type": "markdown",
      "metadata": {
        "id": "vdoUtdT8vta6"
      },
      "source": [
        "---"
      ]
    },
    {
      "cell_type": "code",
      "execution_count": null,
      "metadata": {
        "id": "H7QNEGjA1-PL"
      },
      "outputs": [],
      "source": [
        "data = next(iter(trainloader))"
      ]
    },
    {
      "cell_type": "code",
      "execution_count": null,
      "metadata": {
        "colab": {
          "base_uri": "https://localhost:8080/"
        },
        "id": "w8XBPxmq1_66",
        "outputId": "7f877967-9c55-41da-fc73-aac4edaa3458"
      },
      "outputs": [
        {
          "output_type": "execute_result",
          "data": {
            "text/plain": [
              "(torch.Size([32, 3, 32, 32]), torch.Size([32]))"
            ]
          },
          "metadata": {},
          "execution_count": 12
        }
      ],
      "source": [
        "data[0].shape, data[1].shape"
      ]
    },
    {
      "cell_type": "code",
      "execution_count": null,
      "metadata": {
        "colab": {
          "base_uri": "https://localhost:8080/",
          "height": 258
        },
        "id": "k8JSTlRG1MNz",
        "outputId": "10989ce1-4e52-4eef-981b-3775f141efac"
      },
      "outputs": [
        {
          "output_type": "display_data",
          "data": {
            "text/plain": [
              "<PIL.Image.Image image mode=RGB size=224x224 at 0x7F7168058C10>"
            ],
            "image/png": "[encoded data removed]"
          },
          "metadata": {}
        },
        {
          "output_type": "stream",
          "name": "stdout",
          "text": [
            "horse\n"
          ]
        }
      ],
      "source": [
        "index = 0\n",
        "\n",
        "image = cv2.resize(data[0][index].permute(1, 2, 0).numpy()*255, (224, 224))\n",
        "label = encoder.inverse_transform(data[1])[index]\n",
        "\n",
        "cv2_imshow(image)\n",
        "print(label)"
      ]
    },
    {
      "cell_type": "markdown",
      "metadata": {
        "id": "teZKJK11vwU-"
      },
      "source": [
        "# Model Choice, Design & Architecture"
      ]
    },
    {
      "cell_type": "code",
      "execution_count": null,
      "metadata": {
        "id": "WG4BsqiZ4CuD"
      },
      "outputs": [],
      "source": [
        "x = torch.rand((5, 3, 32, 32))"
      ]
    },
    {
      "cell_type": "markdown",
      "metadata": {
        "id": "3w7cUbeK2bLG"
      },
      "source": [
        "## Linear Network"
      ]
    },
    {
      "cell_type": "code",
      "execution_count": null,
      "metadata": {
        "id": "GSDuB4qbvvTT"
      },
      "outputs": [],
      "source": [
        "class Linear_Network(torch.nn.Module):\n",
        "    def __init__(self, args):\n",
        "        super(Linear_Network, self).__init__()\n",
        "        self.args = args\n",
        "        \n",
        "        self.fc0 = nn.Linear(in_features=3*32*32, out_features=32*32, bias=True)\n",
        "        self.bn0 = nn.BatchNorm1d(num_features=32*32)\n",
        "\n",
        "        self.fc1 = nn.Linear(in_features=32*32, out_features=32*32, bias=True)\n",
        "        self.bn1 = nn.BatchNorm1d(num_features=32*32)\n",
        "\n",
        "        self.fc2 = nn.Linear(in_features=32*32, out_features=16*16, bias=True)\n",
        "        self.bn2 = nn.BatchNorm1d(num_features=16*16)\n",
        "\n",
        "        self.fc3 = nn.Linear(in_features=16*16, out_features=16*16, bias=True)\n",
        "        self.bn3 = nn.BatchNorm1d(num_features=16*16)\n",
        "\n",
        "        self.fc4 = nn.Linear(in_features=16*16, out_features=8*8, bias=True)\n",
        "        self.bn4 = nn.BatchNorm1d(num_features=8*8)\n",
        "\n",
        "        self.fc5 = nn.Linear(in_features=8*8, out_features=8*8, bias=True)\n",
        "        self.bn5 = nn.BatchNorm1d(num_features=8*8)\n",
        "\n",
        "        self.fc6 = nn.Linear(in_features=8*8, out_features=10, bias=True)\n",
        "\n",
        "        self.relu = nn.ReLU(inplace=True)\n",
        "\n",
        "    def forward(self, x):\n",
        "        \n",
        "        out = torch.flatten(x, start_dim=1, end_dim=-1) # bs, 3, 32, 32 -> bs, 3*32*32\n",
        "        out = self.relu(self.bn0(self.fc0(out)))\n",
        "        out = self.relu(self.bn1(self.fc1(out)))\n",
        "        out = self.relu(self.bn2(self.fc2(out)))\n",
        "        out = self.relu(self.bn3(self.fc3(out)))\n",
        "        out = self.relu(self.bn4(self.fc4(out)))\n",
        "        out = self.relu(self.bn5(self.fc5(out)))\n",
        "        out = self.fc6(out)\n",
        "        \n",
        "        return out"
      ]
    },
    {
      "cell_type": "code",
      "execution_count": null,
      "metadata": {
        "colab": {
          "base_uri": "https://localhost:8080/",
          "height": 305
        },
        "id": "Lz98ZQj73_XR",
        "outputId": "6ed593f3-5153-4331-cf9c-c42daa7f1fb2"
      },
      "outputs": [
        {
          "ename": "NameError",
          "evalue": "ignored",
          "output_type": "error",
          "traceback": [
            "\u001b[0;31m---------------------------------------------------------------------------\u001b[0m",
            "\u001b[0;31mNameError\u001b[0m                                 Traceback (most recent call last)",
            "\u001b[0;32m<ipython-input-19-25c9deedeccd>\u001b[0m in \u001b[0;36m<module>\u001b[0;34m()\u001b[0m\n\u001b[1;32m      1\u001b[0m \u001b[0mlinear_network\u001b[0m \u001b[0;34m=\u001b[0m \u001b[0mLinear_Network\u001b[0m\u001b[0;34m(\u001b[0m\u001b[0margs\u001b[0m\u001b[0;34m)\u001b[0m\u001b[0;34m\u001b[0m\u001b[0;34m\u001b[0m\u001b[0m\n\u001b[1;32m      2\u001b[0m \u001b[0;34m\u001b[0m\u001b[0m\n\u001b[0;32m----> 3\u001b[0;31m \u001b[0mout\u001b[0m \u001b[0;34m=\u001b[0m \u001b[0mlinear_network\u001b[0m\u001b[0;34m(\u001b[0m\u001b[0mx\u001b[0m\u001b[0;34m)\u001b[0m\u001b[0;34m\u001b[0m\u001b[0;34m\u001b[0m\u001b[0m\n\u001b[0m\u001b[1;32m      4\u001b[0m \u001b[0mprint\u001b[0m\u001b[0;34m(\u001b[0m\u001b[0mout\u001b[0m\u001b[0;34m.\u001b[0m\u001b[0mshape\u001b[0m\u001b[0;34m)\u001b[0m\u001b[0;34m\u001b[0m\u001b[0;34m\u001b[0m\u001b[0m\n",
            "\u001b[0;31mNameError\u001b[0m: name 'x' is not defined"
          ]
        }
      ],
      "source": [
        "linear_network = Linear_Network(args)\n",
        "\n",
        "out = linear_network(x)\n",
        "print(out.shape)"
      ]
    },
    {
      "cell_type": "markdown",
      "metadata": {
        "id": "1dt84j6L4fi5"
      },
      "source": [
        "## Convolutional Neural Network"
      ]
    },
    {
      "cell_type": "code",
      "execution_count": null,
      "metadata": {
        "id": "DHcn9rT04WrT"
      },
      "outputs": [],
      "source": [
        "class Convolutional_Network(torch.nn.Module):\n",
        "    def __init__(self, args):\n",
        "        super(Convolutional_Network, self).__init__()\n",
        "        self.args = args\n",
        "        \n",
        "        self.conv0 = nn.Conv2d(in_channels=3, out_channels=64, kernel_size=3, stride=1, padding=1, bias=True)\n",
        "        self.bn0 = nn.BatchNorm2d(num_features=64)\n",
        "\n",
        "        self.conv1 = nn.Conv2d(in_channels=64, out_channels=64, kernel_size=3, stride=1, padding=1, bias=True)\n",
        "        self.bn1 = nn.BatchNorm2d(num_features=64)\n",
        "\n",
        "        self.conv2 = nn.Conv2d(in_channels=64, out_channels=64, kernel_size=3, stride=1, padding=1, bias=True)\n",
        "        self.bn2 = nn.BatchNorm2d(num_features=64)\n",
        "\n",
        "        self.conv3 = nn.Conv2d(in_channels=64, out_channels=128, kernel_size=3, stride=1, padding=1, bias=True)\n",
        "        self.bn3 = nn.BatchNorm2d(num_features=128)\n",
        "\n",
        "        self.conv4 = nn.Conv2d(in_channels=128, out_channels=128, kernel_size=3, stride=1, padding=1, bias=True)\n",
        "        self.bn4 = nn.BatchNorm2d(num_features=128)\n",
        "\n",
        "        self.fc5 = nn.Linear(in_features=128, out_features=256, bias=True)\n",
        "        self.bn5 = nn.BatchNorm1d(num_features=256)\n",
        "\n",
        "        self.fc6 = nn.Linear(in_features=256, out_features=10, bias=True)\n",
        "\n",
        "        self.gap = nn.AvgPool2d(kernel_size=32, stride=1, padding=0, ceil_mode=False)\n",
        "        self.relu = nn.ReLU(inplace=True)\n",
        "\n",
        "    def forward(self, x):\n",
        "\n",
        "        out = self.relu(self.bn0(self.conv0(x))) # bs, 3, 32, 32 -> bs, 64, 32, 32 | filter: 3*3*3*64 (kernel_size[0]*kernel_size[1]*in_channels*out_channels)\n",
        "        out = self.relu(self.bn1(self.conv1(out))) # bs, 64, 32, 32 -> bs, 64, 32, 32 | filter: 3*3*64*64\n",
        "        out = self.relu(self.bn2(self.conv2(out))) # bs, 64, 32, 32 -> bs, 64, 32, 32 | filter: 3*3*64*128\n",
        "        out = self.relu(self.bn3(self.conv3(out))) # bs, 64, 32, 32 -> bs, 128, 32, 32\n",
        "        out = self.relu(self.bn4(self.conv4(out))) # bs, 128, 32, 32 -> bs, 128, 32, 32\n",
        "        out = self.gap(out).squeeze(-1).squeeze(-1) # bs, 128, 32, 32 -> bs, 128, 1, 1 -> bs, 128\n",
        "        out = self.relu(self.bn5(self.fc5(out))) # bs, 128 -> bs, 256\n",
        "        out = self.fc6(out) # bs, 256 -> bs, 10\n",
        "\n",
        "        return out"
      ]
    },
    {
      "cell_type": "code",
      "execution_count": null,
      "metadata": {
        "colab": {
          "base_uri": "https://localhost:8080/",
          "height": 217
        },
        "id": "xYNbEDA74tpU",
        "outputId": "27c1278d-04fb-44dd-b23f-9c4be20a7624"
      },
      "outputs": [
        {
          "ename": "NameError",
          "evalue": "ignored",
          "output_type": "error",
          "traceback": [
            "\u001b[0;31m---------------------------------------------------------------------------\u001b[0m",
            "\u001b[0;31mNameError\u001b[0m                                 Traceback (most recent call last)",
            "\u001b[0;32m<ipython-input-16-0e289ccb2694>\u001b[0m in \u001b[0;36m<module>\u001b[0;34m()\u001b[0m\n\u001b[1;32m      1\u001b[0m \u001b[0mconvolutional_network\u001b[0m \u001b[0;34m=\u001b[0m \u001b[0mConvolutional_Network\u001b[0m\u001b[0;34m(\u001b[0m\u001b[0margs\u001b[0m\u001b[0;34m)\u001b[0m\u001b[0;34m\u001b[0m\u001b[0;34m\u001b[0m\u001b[0m\n\u001b[1;32m      2\u001b[0m \u001b[0;34m\u001b[0m\u001b[0m\n\u001b[0;32m----> 3\u001b[0;31m \u001b[0mout\u001b[0m \u001b[0;34m=\u001b[0m \u001b[0mconvolutional_network\u001b[0m\u001b[0;34m(\u001b[0m\u001b[0mx\u001b[0m\u001b[0;34m)\u001b[0m\u001b[0;34m\u001b[0m\u001b[0;34m\u001b[0m\u001b[0m\n\u001b[0m\u001b[1;32m      4\u001b[0m \u001b[0mprint\u001b[0m\u001b[0;34m(\u001b[0m\u001b[0mout\u001b[0m\u001b[0;34m.\u001b[0m\u001b[0mshape\u001b[0m\u001b[0;34m)\u001b[0m\u001b[0;34m\u001b[0m\u001b[0;34m\u001b[0m\u001b[0m\n",
            "\u001b[0;31mNameError\u001b[0m: name 'x' is not defined"
          ]
        }
      ],
      "source": [
        "convolutional_network = Convolutional_Network(args)\n",
        "\n",
        "out = convolutional_network(x)\n",
        "print(out.shape)"
      ]
    },
    {
      "cell_type": "markdown",
      "metadata": {
        "id": "XyqkKRGm48E6"
      },
      "source": [
        "## VGG"
      ]
    },
    {
      "cell_type": "code",
      "execution_count": null,
      "metadata": {
        "id": "2lL8FfzU5n5E"
      },
      "outputs": [],
      "source": [
        "class VGG(torch.nn.Module):\n",
        "    def __init__(self, args, features=[64, 64, \"M\", 128, 128, \"M\", 256, 256, 256, 256, \"M\", 512, 512, 512, 512, \"M\", 512, 512, 512, 512, \"M\"]):\n",
        "        super(VGG, self).__init__()\n",
        "        self.args = args\n",
        "\n",
        "        self.features = self.make_features(features, batch_norm=True)\n",
        "        self.avgpool = nn.AdaptiveAvgPool2d((7, 7))\n",
        "        self.classifier = nn.Sequential(\n",
        "                                            nn.Linear(in_features=512 * 7 * 7, out_features=4096, bias=True),\n",
        "                                            nn.ReLU(inplace=True),\n",
        "                                            nn.Dropout(p=0.5),\n",
        "                                            nn.Linear(in_features=4096, out_features=4096, bias=True),\n",
        "                                            nn.ReLU(inplace=True),\n",
        "                                            nn.Dropout(p=0.5),\n",
        "                                            nn.Linear(in_features=4096, out_features=10, bias=True),\n",
        "                                        )\n",
        "        \n",
        "    def make_features(self, features, batch_norm=True):\n",
        "        layers = []\n",
        "        in_channels = 3\n",
        "        for layer in features:\n",
        "            if layer == \"M\":\n",
        "                layers += [nn.MaxPool2d(kernel_size=2, stride=2)]\n",
        "            elif layer == \"A\":\n",
        "                layers += [nn.AvgPool2d(kernel_size=2, stride=2)]\n",
        "            else:\n",
        "                layer = cast(int, layer)\n",
        "                conv = nn.Conv2d(in_channels=in_channels, out_channels=layer, kernel_size=3, stride=1, padding=1, bias=True)\n",
        "                if batch_norm:\n",
        "                    layers += [conv, nn.BatchNorm2d(layer), nn.ReLU(inplace=True)]\n",
        "                else:\n",
        "                    layers += [conv, nn.ReLU(inplace=True)]\n",
        "                in_channels = layer\n",
        "        return nn.Sequential(*layers)\n",
        "\n",
        "    def forward(self, x):\n",
        "\n",
        "        out = self.features(x)\n",
        "        out = self.avgpool(out)\n",
        "        out = torch.flatten(out, start_dim=1, end_dim=-1)\n",
        "        out = self.classifier(out)\n",
        "\n",
        "        return out"
      ]
    },
    {
      "cell_type": "code",
      "execution_count": null,
      "metadata": {
        "colab": {
          "base_uri": "https://localhost:8080/",
          "height": 217
        },
        "id": "6XvbOEji7rip",
        "outputId": "d9afa0fa-fe70-4704-8660-c56b5dc5de9d"
      },
      "outputs": [
        {
          "output_type": "error",
          "ename": "NameError",
          "evalue": "ignored",
          "traceback": [
            "\u001b[0;31m---------------------------------------------------------------------------\u001b[0m",
            "\u001b[0;31mNameError\u001b[0m                                 Traceback (most recent call last)",
            "\u001b[0;32m<ipython-input-33-34aa4f2a1efe>\u001b[0m in \u001b[0;36m<module>\u001b[0;34m()\u001b[0m\n\u001b[1;32m      1\u001b[0m \u001b[0mvgg\u001b[0m \u001b[0;34m=\u001b[0m \u001b[0mVGG\u001b[0m\u001b[0;34m(\u001b[0m\u001b[0margs\u001b[0m\u001b[0;34m)\u001b[0m\u001b[0;34m\u001b[0m\u001b[0;34m\u001b[0m\u001b[0m\n\u001b[1;32m      2\u001b[0m \u001b[0;34m\u001b[0m\u001b[0m\n\u001b[0;32m----> 3\u001b[0;31m \u001b[0mout\u001b[0m \u001b[0;34m=\u001b[0m \u001b[0mvgg\u001b[0m\u001b[0;34m(\u001b[0m\u001b[0mx\u001b[0m\u001b[0;34m)\u001b[0m\u001b[0;34m\u001b[0m\u001b[0;34m\u001b[0m\u001b[0m\n\u001b[0m\u001b[1;32m      4\u001b[0m \u001b[0mprint\u001b[0m\u001b[0;34m(\u001b[0m\u001b[0mout\u001b[0m\u001b[0;34m.\u001b[0m\u001b[0mshape\u001b[0m\u001b[0;34m)\u001b[0m\u001b[0;34m\u001b[0m\u001b[0;34m\u001b[0m\u001b[0m\n",
            "\u001b[0;31mNameError\u001b[0m: name 'x' is not defined"
          ]
        }
      ],
      "source": [
        "vgg = VGG(args)\n",
        "\n",
        "out = vgg(x)\n",
        "print(out.shape)"
      ]
    },
    {
      "cell_type": "markdown",
      "metadata": {
        "id": "-vBVGGyE4Xtl"
      },
      "source": [
        "### ResNet18"
      ]
    },
    {
      "cell_type": "code",
      "execution_count": null,
      "metadata": {
        "id": "wjt-gskq4edC"
      },
      "outputs": [],
      "source": [
        "class ResidualBlock(nn.Module):\n",
        "    def __init__(self, in_channels, out_channels, downsample):\n",
        "        super(ResidualBlock, self).__init__()\n",
        "        \n",
        "        if downsample:\n",
        "          self.conv1 = nn.Conv2d(in_channels, out_channels, kernel_size = 3, stride = 2, padding = 1)\n",
        "          self.inp = nn.Sequential(nn.Conv2d(in_channels, out_channels, kernel_size=1, stride=2),\n",
        "                                   nn.BatchNorm2d(out_channels))\n",
        "        else:\n",
        "          self.conv1 = nn.Conv2d(in_channels, out_channels, kernel_size=3, stride = 1, padding = 1)\n",
        "          self.inp = nn.Sequential()\n",
        "\n",
        "        self.relu1 = nn.ReLU()\n",
        "        self.conv2 = nn.Conv2d(out_channels, out_channels, kernel_size=3, stride=1, padding=1)\n",
        "        self.relu2 = nn.ReLU()\n",
        "        self.bn1 = nn.BatchNorm2d(out_channels)\n",
        "        self.bn2 = nn.BatchNorm2d(out_channels)\n",
        "        self.relu3 = nn.ReLU()\n",
        "        \n",
        "    def forward(self, x):\n",
        "        y = self.inp(x)\n",
        "        out = self.conv1(x)\n",
        "        out = self.bn1(out)\n",
        "        out = self.relu1(out)\n",
        "        out = self.conv2(out)\n",
        "        out = self.bn2(out)\n",
        "        out = self.relu2(out)\n",
        "        return self.relu3(out + y)"
      ]
    },
    {
      "cell_type": "code",
      "execution_count": null,
      "metadata": {
        "id": "yzCHLVAF4jvU"
      },
      "outputs": [],
      "source": [
        "class ResNet18(nn.Module):\n",
        "    def __init__(self):\n",
        "      super(ResNet18, self).__init__()\n",
        "      \n",
        "      self.layer0 = nn.Sequential(nn.Conv2d(3, 64, kernel_size = 7, stride = 2, padding = 3),\n",
        "                                  nn.MaxPool2d(kernel_size = 3, stride = 2, padding = 1),\n",
        "                                  nn.BatchNorm2d(64),\n",
        "                                  nn.ReLU())\n",
        "      \n",
        "      self.all_res_layers = nn.Sequential(ResidualBlock(64, 64, False),\n",
        "                                          ResidualBlock(64, 64, False),\n",
        "                                          ResidualBlock(64, 128, True),\n",
        "                                          ResidualBlock(128, 128, False),\n",
        "                                          ResidualBlock(128, 256, True),\n",
        "                                          ResidualBlock(256, 256, False),\n",
        "                                          ResidualBlock(256, 512, True),\n",
        "                                          ResidualBlock(512, 512, False))\n",
        "      \n",
        "      self.avgpool = nn.AdaptiveAvgPool2d(1)\n",
        "      self.fc = nn.Linear(512, 10)\n",
        "\n",
        "    def forward(self, x):\n",
        "      out = self.layer0(x)\n",
        "      out = self.all_res_layers(out)\n",
        "      out = self.avgpool(out)\n",
        "      out = out.view(out.size(0), -1)\n",
        "      out = self.fc(out)\n",
        "      return out"
      ]
    },
    {
      "cell_type": "code",
      "source": [
        "from torchsummary import summary"
      ],
      "metadata": {
        "id": "FS_Yt6v3DDqE"
      },
      "execution_count": null,
      "outputs": []
    },
    {
      "cell_type": "code",
      "source": [
        "summary(ResNet18().to(torch.device(\"cuda:0\" if torch.cuda.is_available() else \"cpu\")), (3, 32, 32))"
      ],
      "metadata": {
        "colab": {
          "base_uri": "https://localhost:8080/"
        },
        "id": "bUYL6ofqC7An",
        "outputId": "15bca49a-c0f0-4c0f-e26c-75d607b1d9dc"
      },
      "execution_count": null,
      "outputs": [
        {
          "output_type": "stream",
          "name": "stdout",
          "text": [
            "----------------------------------------------------------------\n",
            "        Layer (type)               Output Shape         Param #\n",
            "================================================================\n",
            "            Conv2d-1           [-1, 64, 16, 16]           9,472\n",
            "         MaxPool2d-2             [-1, 64, 8, 8]               0\n",
            "       BatchNorm2d-3             [-1, 64, 8, 8]             128\n",
            "              ReLU-4             [-1, 64, 8, 8]               0\n",
            "            Conv2d-5             [-1, 64, 8, 8]          36,928\n",
            "       BatchNorm2d-6             [-1, 64, 8, 8]             128\n",
            "              ReLU-7             [-1, 64, 8, 8]               0\n",
            "            Conv2d-8             [-1, 64, 8, 8]          36,928\n",
            "       BatchNorm2d-9             [-1, 64, 8, 8]             128\n",
            "             ReLU-10             [-1, 64, 8, 8]               0\n",
            "             ReLU-11             [-1, 64, 8, 8]               0\n",
            "    ResidualBlock-12             [-1, 64, 8, 8]               0\n",
            "           Conv2d-13             [-1, 64, 8, 8]          36,928\n",
            "      BatchNorm2d-14             [-1, 64, 8, 8]             128\n",
            "             ReLU-15             [-1, 64, 8, 8]               0\n",
            "           Conv2d-16             [-1, 64, 8, 8]          36,928\n",
            "      BatchNorm2d-17             [-1, 64, 8, 8]             128\n",
            "             ReLU-18             [-1, 64, 8, 8]               0\n",
            "             ReLU-19             [-1, 64, 8, 8]               0\n",
            "    ResidualBlock-20             [-1, 64, 8, 8]               0\n",
            "           Conv2d-21            [-1, 128, 4, 4]           8,320\n",
            "      BatchNorm2d-22            [-1, 128, 4, 4]             256\n",
            "           Conv2d-23            [-1, 128, 4, 4]          73,856\n",
            "      BatchNorm2d-24            [-1, 128, 4, 4]             256\n",
            "             ReLU-25            [-1, 128, 4, 4]               0\n",
            "           Conv2d-26            [-1, 128, 4, 4]         147,584\n",
            "      BatchNorm2d-27            [-1, 128, 4, 4]             256\n",
            "             ReLU-28            [-1, 128, 4, 4]               0\n",
            "             ReLU-29            [-1, 128, 4, 4]               0\n",
            "    ResidualBlock-30            [-1, 128, 4, 4]               0\n",
            "           Conv2d-31            [-1, 128, 4, 4]         147,584\n",
            "      BatchNorm2d-32            [-1, 128, 4, 4]             256\n",
            "             ReLU-33            [-1, 128, 4, 4]               0\n",
            "           Conv2d-34            [-1, 128, 4, 4]         147,584\n",
            "      BatchNorm2d-35            [-1, 128, 4, 4]             256\n",
            "             ReLU-36            [-1, 128, 4, 4]               0\n",
            "             ReLU-37            [-1, 128, 4, 4]               0\n",
            "    ResidualBlock-38            [-1, 128, 4, 4]               0\n",
            "           Conv2d-39            [-1, 256, 2, 2]          33,024\n",
            "      BatchNorm2d-40            [-1, 256, 2, 2]             512\n",
            "           Conv2d-41            [-1, 256, 2, 2]         295,168\n",
            "      BatchNorm2d-42            [-1, 256, 2, 2]             512\n",
            "             ReLU-43            [-1, 256, 2, 2]               0\n",
            "           Conv2d-44            [-1, 256, 2, 2]         590,080\n",
            "      BatchNorm2d-45            [-1, 256, 2, 2]             512\n",
            "             ReLU-46            [-1, 256, 2, 2]               0\n",
            "             ReLU-47            [-1, 256, 2, 2]               0\n",
            "    ResidualBlock-48            [-1, 256, 2, 2]               0\n",
            "           Conv2d-49            [-1, 256, 2, 2]         590,080\n",
            "      BatchNorm2d-50            [-1, 256, 2, 2]             512\n",
            "             ReLU-51            [-1, 256, 2, 2]               0\n",
            "           Conv2d-52            [-1, 256, 2, 2]         590,080\n",
            "      BatchNorm2d-53            [-1, 256, 2, 2]             512\n",
            "             ReLU-54            [-1, 256, 2, 2]               0\n",
            "             ReLU-55            [-1, 256, 2, 2]               0\n",
            "    ResidualBlock-56            [-1, 256, 2, 2]               0\n",
            "           Conv2d-57            [-1, 512, 1, 1]         131,584\n",
            "      BatchNorm2d-58            [-1, 512, 1, 1]           1,024\n",
            "           Conv2d-59            [-1, 512, 1, 1]       1,180,160\n",
            "      BatchNorm2d-60            [-1, 512, 1, 1]           1,024\n",
            "             ReLU-61            [-1, 512, 1, 1]               0\n",
            "           Conv2d-62            [-1, 512, 1, 1]       2,359,808\n",
            "      BatchNorm2d-63            [-1, 512, 1, 1]           1,024\n",
            "             ReLU-64            [-1, 512, 1, 1]               0\n",
            "             ReLU-65            [-1, 512, 1, 1]               0\n",
            "    ResidualBlock-66            [-1, 512, 1, 1]               0\n",
            "           Conv2d-67            [-1, 512, 1, 1]       2,359,808\n",
            "      BatchNorm2d-68            [-1, 512, 1, 1]           1,024\n",
            "             ReLU-69            [-1, 512, 1, 1]               0\n",
            "           Conv2d-70            [-1, 512, 1, 1]       2,359,808\n",
            "      BatchNorm2d-71            [-1, 512, 1, 1]           1,024\n",
            "             ReLU-72            [-1, 512, 1, 1]               0\n",
            "             ReLU-73            [-1, 512, 1, 1]               0\n",
            "    ResidualBlock-74            [-1, 512, 1, 1]               0\n",
            "AdaptiveAvgPool2d-75            [-1, 512, 1, 1]               0\n",
            "           Linear-76                   [-1, 10]           5,130\n",
            "================================================================\n",
            "Total params: 11,186,442\n",
            "Trainable params: 11,186,442\n",
            "Non-trainable params: 0\n",
            "----------------------------------------------------------------\n",
            "Input size (MB): 0.01\n",
            "Forward/backward pass size (MB): 1.21\n",
            "Params size (MB): 42.67\n",
            "Estimated Total Size (MB): 43.90\n",
            "----------------------------------------------------------------\n"
          ]
        }
      ]
    },
    {
      "cell_type": "markdown",
      "metadata": {
        "id": "2yDog-I9TquI"
      },
      "source": [
        "## Other Architectures\n",
        "\n",
        "- [ResNet](https://arxiv.org/pdf/1512.03385.pdf)\n",
        "- [DenseNet](https://arxiv.org/pdf/1608.06993.pdf)"
      ]
    },
    {
      "cell_type": "markdown",
      "metadata": {
        "id": "jiPMx_3YG9tb"
      },
      "source": [
        "# Trainer"
      ]
    },
    {
      "cell_type": "code",
      "execution_count": null,
      "metadata": {
        "id": "U9sm8odkGgMz"
      },
      "outputs": [],
      "source": [
        "class Trainer():\n",
        "    def __init__(self, args, architecture):\n",
        "\n",
        "        self.args = args\n",
        "\n",
        "        random.seed(self.args.seed)\n",
        "        np.random.seed(self.args.seed)\n",
        "        torch.manual_seed(self.args.seed)\n",
        "        torch.cuda.manual_seed(self.args.seed)\n",
        "        torch.cuda.manual_seed_all(self.args.seed)\n",
        "\n",
        "        self.trainloader, self.validloader, self.testloader = self.get_iterator(self.args.data)\n",
        "        \n",
        "        self.model = architecture.to(self.args.device) # self.get_model()\n",
        "        self.criterion = self.get_criterion()\n",
        "        self.optimizer = self.get_optimizer()\n",
        "        self.scheduler = self.get_scheduler()\n",
        "\n",
        "        self.train_loss = []\n",
        "        self.train_metrics = {'accuracy': []}\n",
        "        self.valid_loss = []\n",
        "        self.valid_metrics = {'accuracy': []}\n",
        "\n",
        "        self.start_epoch = 0\n",
        "\n",
        "    def get_iterator(self, data):\n",
        "        train, valid, test = data\n",
        "        trainloader = DataLoader(train, batch_size=self.args.batch_size, shuffle=True, num_workers=self.args.num_workers, pin_memory=True, drop_last=True)\n",
        "        validloader = DataLoader(valid, batch_size=self.args.batch_size, shuffle=False, num_workers=self.args.num_workers, pin_memory=True, drop_last=True)\n",
        "        testloader = DataLoader(test, batch_size=self.args.batch_size, shuffle=False, num_workers=self.args.num_workers, pin_memory=True, drop_last=False)\n",
        "        return trainloader, validloader, testloader\n",
        "\n",
        "    def get_criterion(self):\n",
        "        return nn.CrossEntropyLoss(weight=weights).to(self.args.device)\n",
        "    \n",
        "    def get_optimizer(self):\n",
        "        return torch.optim.Adam(self.model.parameters(), lr=self.args.lr)\n",
        "\n",
        "    def get_scheduler(self):\n",
        "        return torch.optim.lr_scheduler.CosineAnnealingLR(self.optimizer, self.args.max_epochs, eta_min=1e-12, last_epoch=-1, verbose=False)\n",
        "\n",
        "    def get_model(self, architecture):\n",
        "        model = Convolutional_Network(args).to(self.args.device)\n",
        "        return model\n",
        "\n",
        "    def get_model_params(self):\n",
        "        return sum(p.numel() for p in self.model.parameters())/1e6\n",
        "\n",
        "    def get_accuracy(self, output, label):\n",
        "        return (torch.argmax(output, dim=1)==label).float().sum().item()\n",
        "\n",
        "    def save(self, epoch):\n",
        "        torch.save({\n",
        "            'model_state_dict': self.model.state_dict(),\n",
        "            'optimizer_state_dict': self.optimizer.state_dict(),\n",
        "            }, os.path.join(self.args.checkpoint, \"model.pth\"))\n",
        "        torch.save({\n",
        "            'epoch': epoch,\n",
        "            'args': args,\n",
        "            'loss': (self.train_loss, self.valid_loss),\n",
        "            'metrics': (self.train_metrics, self.valid_metrics)\n",
        "            }, os.path.join(self.args.checkpoint, \"metrics.pth\"))\n",
        "        \n",
        "    def load(self):\n",
        "        if os.path.exists(os.path.join(self.args.checkpoint, \"model.pth\")):\n",
        "            checkpoints = torch.load(os.path.join(self.args.checkpoint, \"model.pth\"), map_location=self.args.device)\n",
        "            self.model.load_state_dict(checkpoints['model_state_dict'])\n",
        "            self.optimizer.load_state_dict(checkpoints['optimizer_state_dict'])\n",
        "\n",
        "        if os.path.exists(os.path.join(self.args.checkpoint, \"metrics.pth\")):\n",
        "            checkpoints = torch.load(os.path.join(self.args.checkpoint, \"metrics.pth\"), map_location=self.args.device)\n",
        "            self.args = checkpoints['args']\n",
        "            self.train_loss, self.valid_loss = checkpoints['loss']\n",
        "            self.train_metrics, self.valid_metrics = checkpoints['metrics']\n",
        "            return checkpoints['epoch']\n",
        "        return 0\n",
        "\n",
        "    def train(self):\n",
        "        epoch_loss = 0\n",
        "        epoch_metrics = {'accuracy': 0}\n",
        "\n",
        "        gc.collect()\n",
        "        torch.cuda.empty_cache()\n",
        "        self.model.train()\n",
        "\n",
        "        with torch.autograd.set_detect_anomaly(True):\n",
        "            bar = pyprind.ProgBar(len(self.trainloader), bar_char='█')\n",
        "            for index, (data, label) in enumerate(self.trainloader):\n",
        "                data = data.to(self.args.device).float()\n",
        "                label = label.long().to(self.args.device)\n",
        "\n",
        "                self.optimizer.zero_grad()\n",
        "                \n",
        "                output = self.model(data)\n",
        "\n",
        "                loss = self.criterion(output, label)\n",
        "\n",
        "                loss.backward()\n",
        "\n",
        "                self.optimizer.step()\n",
        "\n",
        "                epoch_loss += loss.item()/len(self.trainloader)\n",
        "\n",
        "                epoch_metrics['accuracy'] += self.get_accuracy(output, label)/len(self.args.data[0])\n",
        "\n",
        "                bar.update()\n",
        "                gc.collect()\n",
        "                torch.cuda.empty_cache()\n",
        "\n",
        "        return epoch_loss, epoch_metrics\n",
        "\n",
        "    def evaluate(self):\n",
        "        epoch_loss = 0\n",
        "        epoch_metrics = {'accuracy': 0}\n",
        "\n",
        "        gc.collect()\n",
        "        torch.cuda.empty_cache()\n",
        "        self.model.eval()\n",
        "\n",
        "        with torch.autograd.set_detect_anomaly(True):\n",
        "            with torch.no_grad():\n",
        "                bar = pyprind.ProgBar(len(self.validloader), bar_char='█')\n",
        "                for index, (data, label) in enumerate(self.validloader):\n",
        "                    data = data.to(self.args.device).float()\n",
        "                    label = label.long().to(self.args.device)\n",
        "\n",
        "                    output = self.model(data)\n",
        "\n",
        "                    loss = self.criterion(output, label)\n",
        "\n",
        "                    epoch_loss += loss.item()/len(self.validloader)\n",
        "                    epoch_metrics['accuracy'] += self.get_accuracy(output, label)/len(self.args.data[1])\n",
        "\n",
        "                    bar.update()\n",
        "                    gc.collect()\n",
        "                    torch.cuda.empty_cache()\n",
        "\n",
        "        return epoch_loss, epoch_metrics\n",
        "\n",
        "    def test(self):\n",
        "\n",
        "        gc.collect()\n",
        "        torch.cuda.empty_cache()\n",
        "        self.model.eval()\n",
        "\n",
        "        outputs = torch.empty([0,])\n",
        "\n",
        "        with torch.autograd.set_detect_anomaly(True):\n",
        "            with torch.no_grad():\n",
        "                bar = pyprind.ProgBar(len(self.testloader), bar_char='█')\n",
        "                for index, (data, label) in enumerate(self.testloader):\n",
        "                    data = data.to(self.args.device)\n",
        "\n",
        "                    output = torch.argmax(self.model(data)).detach().cpu()\n",
        "                    outputs = torch.cat((outputs, output), dim=0)\n",
        "\n",
        "                    bar.update()\n",
        "                    gc.collect()\n",
        "                    torch.cuda.empty_cache()\n",
        "\n",
        "        return outputs\n",
        "    \n",
        "    def fit(self, next=True):\n",
        "        if next:\n",
        "            self.start_epoch = self.load()\n",
        "\n",
        "        for epoch in range(self.start_epoch+1, self.args.max_epochs+1, 1):\n",
        "\n",
        "            epoch_train_loss, epoch_train_metrics = self.train()\n",
        "            epoch_train_accuracy = epoch_train_metrics['accuracy']\n",
        "\n",
        "            self.train_loss.append(epoch_train_loss)\n",
        "            self.train_metrics['accuracy'].append(epoch_train_metrics['accuracy'])\n",
        "\n",
        "            epoch_valid_loss, epoch_valid_metrics = self.evaluate()\n",
        "            epoch_valid_accuracy = epoch_valid_metrics['accuracy']\n",
        "\n",
        "            \n",
        "            self.valid_loss.append(epoch_valid_loss)\n",
        "            self.valid_metrics['accuracy'].append(epoch_valid_metrics['accuracy']) \n",
        "\n",
        "            self.scheduler.step()\n",
        "            for param_group in self.optimizer.param_groups:\n",
        "                self.args.lr = param_group['lr']\n",
        "            if epoch_valid_metrics['accuracy'] >= max(self.valid_metrics['accuracy']):\n",
        "                self.save(epoch)\n",
        "\n",
        "            time.sleep(1)\n",
        "            print(f'Epoch {epoch}/{self.args.max_epochs} | Training: Loss = {round(epoch_train_loss, 4)}  Accuracy = {round(epoch_train_accuracy, 4)} | Validation: Loss = {round(epoch_valid_loss, 4)}  Accuracy = {round(epoch_valid_accuracy, 4)}')"
      ]
    },
    {
      "cell_type": "markdown",
      "metadata": {
        "id": "jPrxVsc1IsX1"
      },
      "source": [
        "# Training"
      ]
    },
    {
      "cell_type": "code",
      "execution_count": null,
      "metadata": {
        "id": "BJjzEDsWLB83"
      },
      "outputs": [],
      "source": [
        "models = {\n",
        "    'Linear': Linear_Network(args),\n",
        "    'Convolution': Convolutional_Network(args),\n",
        "    'VGG': VGG(args),\n",
        "    'ResNet18': ResNet18()\n",
        "}"
      ]
    },
    {
      "cell_type": "code",
      "execution_count": null,
      "metadata": {
        "id": "ka3HRNorHKhu"
      },
      "outputs": [],
      "source": [
        "trainer = Trainer(args, architecture=models['ResNet18'])"
      ]
    },
    {
      "cell_type": "code",
      "execution_count": null,
      "metadata": {
        "colab": {
          "base_uri": "https://localhost:8080/"
        },
        "id": "hp6TOW0iHcpt",
        "outputId": "342fc956-fe74-4fa5-a420-4d6b7a21e584"
      },
      "outputs": [
        {
          "output_type": "stream",
          "name": "stderr",
          "text": [
            "0% [██████████████████████████████] 100% | ETA: 00:00:00\n",
            "Total time elapsed: 00:02:14\n",
            "0% [██████████████████████████████] 100% | ETA: 00:00:00\n",
            "Total time elapsed: 00:00:08\n"
          ]
        },
        {
          "output_type": "stream",
          "name": "stdout",
          "text": [
            "Epoch 1/10 | Training: Loss = 1.3957  Accuracy = 0.4944 | Validation: Loss = 1.1567  Accuracy = 0.5822\n"
          ]
        },
        {
          "output_type": "stream",
          "name": "stderr",
          "text": [
            "0% [██████████████████████████████] 100% | ETA: 00:00:00\n",
            "Total time elapsed: 00:02:07\n",
            "0% [██████████████████████████████] 100% | ETA: 00:00:00\n",
            "Total time elapsed: 00:00:08\n"
          ]
        },
        {
          "output_type": "stream",
          "name": "stdout",
          "text": [
            "Epoch 2/10 | Training: Loss = 1.017  Accuracy = 0.6396 | Validation: Loss = 0.9938  Accuracy = 0.654\n"
          ]
        },
        {
          "output_type": "stream",
          "name": "stderr",
          "text": [
            "0% [██████████████████████████████] 100% | ETA: 00:00:00\n",
            "Total time elapsed: 00:02:08\n",
            "0% [██████████████████████████████] 100% | ETA: 00:00:00\n",
            "Total time elapsed: 00:00:08\n"
          ]
        },
        {
          "output_type": "stream",
          "name": "stdout",
          "text": [
            "Epoch 3/10 | Training: Loss = 0.8123  Accuracy = 0.7132 | Validation: Loss = 0.864  Accuracy = 0.694\n"
          ]
        },
        {
          "output_type": "stream",
          "name": "stderr",
          "text": [
            "0% [██████████████████████████████] 100% | ETA: 00:00:00\n",
            "Total time elapsed: 00:02:07\n",
            "0% [██████████████████████████████] 100% | ETA: 00:00:00\n",
            "Total time elapsed: 00:00:08\n"
          ]
        },
        {
          "output_type": "stream",
          "name": "stdout",
          "text": [
            "Epoch 4/10 | Training: Loss = 0.6534  Accuracy = 0.7698 | Validation: Loss = 0.8796  Accuracy = 0.706\n"
          ]
        },
        {
          "output_type": "stream",
          "name": "stderr",
          "text": [
            "0% [██████████████████████████████] 100% | ETA: 00:00:00\n",
            "Total time elapsed: 00:02:09\n",
            "0% [██████████████████████████████] 100% | ETA: 00:00:00\n",
            "Total time elapsed: 00:00:08\n"
          ]
        },
        {
          "output_type": "stream",
          "name": "stdout",
          "text": [
            "Epoch 5/10 | Training: Loss = 0.4858  Accuracy = 0.8295 | Validation: Loss = 0.8669  Accuracy = 0.7068\n"
          ]
        },
        {
          "output_type": "stream",
          "name": "stderr",
          "text": [
            "0% [██████████████████████████████] 100% | ETA: 00:00:00\n",
            "Total time elapsed: 00:02:10\n",
            "0% [██████████████████████████████] 100% | ETA: 00:00:00\n",
            "Total time elapsed: 00:00:08\n"
          ]
        },
        {
          "output_type": "stream",
          "name": "stdout",
          "text": [
            "Epoch 6/10 | Training: Loss = 0.3146  Accuracy = 0.8896 | Validation: Loss = 0.9134  Accuracy = 0.7242\n"
          ]
        },
        {
          "output_type": "stream",
          "name": "stderr",
          "text": [
            "0% [██████████████████████████████] 100% | ETA: 00:00:00\n",
            "Total time elapsed: 00:02:10\n",
            "0% [██████████████████████████████] 100% | ETA: 00:00:00\n",
            "Total time elapsed: 00:00:08\n"
          ]
        },
        {
          "output_type": "stream",
          "name": "stdout",
          "text": [
            "Epoch 7/10 | Training: Loss = 0.1685  Accuracy = 0.9429 | Validation: Loss = 0.9805  Accuracy = 0.729\n"
          ]
        },
        {
          "output_type": "stream",
          "name": "stderr",
          "text": [
            "0% [██████████████████████████████] 100% | ETA: 00:00:00\n",
            "Total time elapsed: 00:02:08\n",
            "0% [██████████████████████████████] 100% | ETA: 00:00:00\n",
            "Total time elapsed: 00:00:08\n"
          ]
        },
        {
          "output_type": "stream",
          "name": "stdout",
          "text": [
            "Epoch 8/10 | Training: Loss = 0.0729  Accuracy = 0.9773 | Validation: Loss = 1.1862  Accuracy = 0.7292\n"
          ]
        },
        {
          "output_type": "stream",
          "name": "stderr",
          "text": [
            "0% [██████████████████████████████] 100% | ETA: 00:00:00\n",
            "Total time elapsed: 00:02:07\n",
            "0% [██████████████████████████████] 100% | ETA: 00:00:00\n",
            "Total time elapsed: 00:00:08\n"
          ]
        },
        {
          "output_type": "stream",
          "name": "stdout",
          "text": [
            "Epoch 9/10 | Training: Loss = 0.0286  Accuracy = 0.9918 | Validation: Loss = 1.3543  Accuracy = 0.7352\n"
          ]
        },
        {
          "output_type": "stream",
          "name": "stderr",
          "text": [
            "0% [██████████████████████████████] 100% | ETA: 00:00:00\n",
            "Total time elapsed: 00:02:08\n",
            "0% [██████████████████████████████] 100% | ETA: 00:00:00\n",
            "Total time elapsed: 00:00:08\n"
          ]
        },
        {
          "output_type": "stream",
          "name": "stdout",
          "text": [
            "Epoch 10/10 | Training: Loss = 0.0146  Accuracy = 0.9963 | Validation: Loss = 1.3681  Accuracy = 0.7396\n"
          ]
        }
      ],
      "source": [
        "trainer.fit()"
      ]
    },
    {
      "cell_type": "markdown",
      "metadata": {
        "id": "OUDYTGtBPY6a"
      },
      "source": [
        "## Statistics\n",
        "\n",
        "| **Model** | **Time** per Epoch |  **Accuracy** (At end of Epoch 1) | **Accuracy** (At end of Epoch 10) |\n",
        "| :-- | :-- | :-- | :-- |\n",
        "| Linear | 1 min 20 s| 46.14 % | 58.28 % |\n",
        "| Convolution | 1 min 50 s | 55.24 % | 81.32 % |\n",
        "| VGG19 | 3 mins | 27.08 % | 79.6 % |\n",
        "| ResNet152 | 6 mins 10 s| 37.5 % | 62.12 % |\n",
        "| ResNet152 (Pretrained) | 6 mins 40 s| 78.66 % | 85.98 % |\n",
        "\n"
      ]
    }
  ],
  "metadata": {
    "accelerator": "GPU",
    "colab": {
      "collapsed_sections": [
        "D_uk0N0CuCJu",
        "pVVOZoySss1c",
        "SoJh8htRvs0_",
        "dM5LUuq-v0D4",
        "EChdov-rsINc",
        "S6g3Secxw73k",
        "6xdFH0S-tOe5",
        "0jKwtSnczNmN",
        "3w7cUbeK2bLG",
        "1dt84j6L4fi5",
        "XyqkKRGm48E6",
        "S2ERMacD8MsL",
        "2yDog-I9TquI"
      ],
      "provenance": []
    },
    "kernelspec": {
      "display_name": "Python 3",
      "name": "python3"
    },
    "language_info": {
      "name": "python"
    }
  },
  "nbformat": 4,
  "nbformat_minor": 0
}